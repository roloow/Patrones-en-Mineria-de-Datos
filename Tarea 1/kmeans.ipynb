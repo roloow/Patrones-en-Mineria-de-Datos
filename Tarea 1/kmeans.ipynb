{
 "cells": [
  {
   "cell_type": "markdown",
   "metadata": {},
   "source": [
    "K-means"
   ]
  },
  {
   "cell_type": "code",
   "execution_count": 18,
   "metadata": {},
   "outputs": [
    {
     "name": "stdout",
     "output_type": "stream",
     "text": [
      "['1075', 'Caldera Brewing Company', 1228286719, 4.0, 3.0, 4.0, 'thehand', 'American Pale Ale (APA)', 4.0, 4.0, 'Caldera Pale Ale', 5.5, 25414.0]\n"
     ]
    },
    {
     "data": {
      "image/png": "[encoded data removed]",
      "text/plain": [
       "<matplotlib.figure.Figure at 0x7f97202d0990>"
      ]
     },
     "metadata": {},
     "output_type": "display_data"
    }
   ],
   "source": [
    "import numpy as np\n",
    "import scipy\n",
    "import matplotlib.pyplot as plt\n",
    "import sklearn\n",
    "import pandas as pd\n",
    "\n",
    "#lectura\n",
    "y = pd.read_csv('beer_reviews/prueba1294.csv')\n",
    "\n",
    "\n",
    "print y.values.tolist()[100][2]\n",
    "\n",
    "\n",
    "\n",
    "#creacion de los datos\n",
    "from sklearn.datasets.samples_generator import make_blobs\n",
    "np.random.seed(0)\n",
    "centers = [[1,1],[-1,-1]]\n",
    "X, labels_true = make_blobs(n_samples=10000, centers=centers, cluster_std = 0.1)\n",
    "\n",
    "#uso k means\n",
    "from sklearn.cluster import KMeans\n",
    "k_means = KMeans(init=\"random\", n_clusters=2, n_init=10)\n",
    "k_means.fit(X)\n",
    "k_means_labels = k_means.labels_\n",
    "k_means_cluster_centers = k_means.cluster_centers_\n",
    "\n",
    "#grafico\n",
    "fig = plt.figure(figsize=(3,3))\n",
    "colors = ['#4EACC5','#FF9C34','#4E9A06']\n",
    "ax = fig.add_subplot(1,1,1)\n",
    "ax.set_title('KMeans')\n",
    "for k, col in zip(range(3), colors):\n",
    "\tmy_members = k_means_labels == k\n",
    "\tax.plot(X[my_members, 0], X[my_members, 1], 'w', markerfacecolor=col, marker='.')\n",
    "\t\n",
    "ax.set_xticks(())\n",
    "ax.set_yticks(())\n",
    "plt.show()"
   ]
  },
  {
   "cell_type": "code",
   "execution_count": null,
   "metadata": {
    "collapsed": true
   },
   "outputs": [],
   "source": []
  },
  {
   "cell_type": "code",
   "execution_count": null,
   "metadata": {
    "collapsed": true
   },
   "outputs": [],
   "source": []
  }
 ],
 "metadata": {
  "kernelspec": {
   "display_name": "Python 2",
   "language": "python",
   "name": "python2"
  },
  "language_info": {
   "codemirror_mode": {
    "name": "ipython",
    "version": 2
   },
   "file_extension": ".py",
   "mimetype": "text/x-python",
   "name": "python",
   "nbconvert_exporter": "python",
   "pygments_lexer": "ipython2",
   "version": "2.7.12"
  }
 },
 "nbformat": 4,
 "nbformat_minor": 2
}

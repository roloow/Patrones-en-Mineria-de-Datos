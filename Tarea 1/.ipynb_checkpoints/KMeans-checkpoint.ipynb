{
 "cells": [
  {
   "cell_type": "code",
   "execution_count": null,
   "metadata": {
    "collapsed": true
   },
   "outputs": [],
   "source": [
    "import matplotlib.pyplot as plt\n",
    "import pandas as pd\n",
    "import numpy as np\n",
    "import scipy\n",
    "import sklearn\n",
    "\n",
    "# Normalizador de información mutua\n",
    "from sklearn.metrics import normalized_mutual_info_score as NMI\n",
    "# Normalizador\n",
    "from sklearn.preprocessing import StandardScaler as SS\n",
    "# Dimensionador\n",
    "from sklearn.decomposition import PCA \n",
    "# Gestionador KMeans \n",
    "from sklearn.cluster import KMeans\n",
    "\n",
    "# Parametros\n",
    "CSV_PATH = 'prueba.csv'\n",
    "CLUSTERS = 5\n",
    "MAX_IT = 10\n",
    "\n",
    "# Se obtienen los datos del archivo\n",
    "dataset = pd.read_csv(CSV_PATH)\n",
    "\n",
    "# Se filtra el dataset por valores numéricos sin contar brewery_time e identificadores\n",
    "data = pd.DataFrame({'review_overall':    dataset['review_overall'],\n",
    "                     'review_aroma':      dataset['review_aroma'],\n",
    "                     'review_appearance': dataset['review_appearance'],\n",
    "                     'review_palate':     dataset['review_palate'],\n",
    "                     'review_taste':      dataset['review_taste'],\n",
    "                     'beer_abv':          dataset['beer_abv']})\n",
    "\n",
    "# Se arregla el dataset asumiendo 0 == vacio - Error: NaN found\n",
    "data = data.fillna(0)\n",
    "\n",
    "# Se normalizan los datos y se disminuye la dimención\n",
    "data = SS().fit_transform(data)\n",
    "data = PCA(n_components = 2).fit_transform(data)\n",
    "\n",
    "# Inicialización de K-Means\n",
    "k_means = KMeans(init='k-means++', n_clusters=CLUSTERS, n_init=MAX_IT)\n",
    "k_means.fit(data)\n",
    "\n",
    "# Asignación de labels\n",
    "labels = k_means.labels_\n",
    "\n",
    "\n",
    "for label in np.unique(labels):\n",
    "    plt.plot(data[labels == label, 0], data[labels == label, 1], '.')\n",
    "\n",
    "plt.title('Clustering K-Means de ' + str(CLUSTERS))\n",
    "plt.show()"
   ]
  }
 ],
 "metadata": {
  "kernelspec": {
   "display_name": "Python 2",
   "language": "python",
   "name": "python2"
  },
  "language_info": {
   "codemirror_mode": {
    "name": "ipython",
    "version": 2
   },
   "file_extension": ".py",
   "mimetype": "text/x-python",
   "name": "python",
   "nbconvert_exporter": "python",
   "pygments_lexer": "ipython2",
   "version": "2.7.13"
  }
 },
 "nbformat": 4,
 "nbformat_minor": 2
}

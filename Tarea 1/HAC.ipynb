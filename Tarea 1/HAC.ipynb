{
 "cells": [
  {
   "cell_type": "markdown",
   "metadata": {},
   "source": [
    "# HAC"
   ]
  },
  {
   "cell_type": "code",
   "execution_count": null,
   "metadata": {
    "scrolled": true
   },
   "outputs": [],
   "source": [
    "import matplotlib.pyplot as plt\n",
    "import pandas as pd\n",
    "import numpy as np\n",
    "import scipy\n",
    "import sklearn\n",
    "\n",
    "# Normalizador de información mutua\n",
    "from sklearn.metrics import normalized_mutual_info_score as NMI\n",
    "# Normalizador\n",
    "from sklearn.preprocessing import StandardScaler as SS\n",
    "# Dimensionador\n",
    "from sklearn.decomposition import PCA \n",
    "# Gestionador HAC \n",
    "from sklearn.cluster import AgglomerativeClustering \n",
    "\n",
    "# Parametros\n",
    "CSV_PATH = 'datos_prueba/prueba20.000.csv'\n",
    "CLUSTERS = 5\n",
    "MAX_IT = 10\n",
    "\n",
    "# Se obtienen los datos del archivo\n",
    "dataset = pd.read_csv(CSV_PATH)\n",
    "\n",
    "# Se filtra el dataset por valores numéricos sin contar brewery_time\n",
    "data = pd.DataFrame({'review_overall':    dataset['review_overall'],\n",
    "                        'review_aroma':      dataset['review_aroma'],\n",
    "                        'review_appearance': dataset['review_appearance'],\n",
    "                        'review_palate':     dataset['review_palate'],\n",
    "                        'review_taste':      dataset['review_taste'],\n",
    "                        'beer_abv':          dataset['beer_abv']})\n",
    "\n",
    "# Se arregla el dataset asumiendo 0 == vacio - Error: NaN found\n",
    "data = data.fillna(0)\n",
    "print \"hola mundo\"\n",
    "# Se normalizan los datos y se disminuye la dimención\n",
    "data = SS().fit_transform(data)\n",
    "data = PCA(n_components = 2).fit_transform(data)\n",
    "\n",
    "from sklearn import manifold\n",
    "X_red = manifold.SpectralEmbedding(n_components=2).fit_transform(data)\n",
    "\n",
    "\n",
    "clustering = AgglomerativeClustering(linkage = 'complete', n_clusters = CLUSTERS, affinity = 'euclidean', connectivity = None)\n",
    "clustering.fit(data)\n",
    "\n",
    "y = dataset['brewery_id'] # caso en que se quiere etiquetar en funcion de la id de la cerveseria\n",
    "#y = dataset['beer_beerid'] #caso etiqueta id de la cerveza\n",
    "x_min, x_max = np.min(X_red, axis=0), np.max(X_red, axis=0)\n",
    "X_red = (X_red - x_min)/(x_max - x_min)\n",
    "for i in range(X_red.shape[0]):\n",
    "\tplt.text(X_red[i,0], X_red[i,1], str(y[i]),\n",
    "\tcolor=plt.cm.spectral(clustering.labels_[i]/10.),\n",
    "\tfontdict={'weight': 'bold', 'size': 8})\n",
    "\n",
    "plt.show()\n",
    "\n",
    "y = dataset['beer_beerid'] #caso etiqueta id de la cerveza\n",
    "x_min, x_max = np.min(X_red, axis=0), np.max(X_red, axis=0)\n",
    "X_red = (X_red - x_min)/(x_max - x_min)\n",
    "for i in range(X_red.shape[0]):\n",
    "\tplt.text(X_red[i,0], X_red[i,1], str(y[i]),\n",
    "\tcolor=plt.cm.spectral(clustering.labels_[i]/10.),\n",
    "\tfontdict={'weight': 'bold', 'size': 8})\n",
    "\n",
    "plt.show()\n"
   ]
  },
  {
   "cell_type": "code",
   "execution_count": null,
   "metadata": {
    "collapsed": true
   },
   "outputs": [],
   "source": []
  },
  {
   "cell_type": "markdown",
   "metadata": {},
   "source": [
    "## Analisis\n",
    "\n",
    "\n"
   ]
  }
 ],
 "metadata": {
  "kernelspec": {
   "display_name": "Python 2",
   "language": "python",
   "name": "python2"
  },
  "language_info": {
   "codemirror_mode": {
    "name": "ipython",
    "version": 2
   },
   "file_extension": ".py",
   "mimetype": "text/x-python",
   "name": "python",
   "nbconvert_exporter": "python",
   "pygments_lexer": "ipython2",
   "version": "2.7.12"
  }
 },
 "nbformat": 4,
 "nbformat_minor": 2
}
